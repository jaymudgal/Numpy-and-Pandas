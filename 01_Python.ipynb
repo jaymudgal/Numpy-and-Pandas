{
 "cells": [
  {
   "cell_type": "markdown",
   "id": "44707a10",
   "metadata": {},
   "source": [
    "# Python Tutorial"
   ]
  },
  {
   "cell_type": "markdown",
   "id": "6d7cd4fe",
   "metadata": {},
   "source": [
    "### Print statements"
   ]
  },
  {
   "cell_type": "code",
   "execution_count": 32,
   "id": "1f5d43d0",
   "metadata": {},
   "outputs": [
    {
     "name": "stdout",
     "output_type": "stream",
     "text": [
      "This course title is Data Mining for Business Analytics\n",
      "\n",
      "The course section is CIS 9660 URA\n",
      "\n",
      "Our classroom is B - Vert - 9-135\n",
      "\n",
      "Our class meets on Thursdays during 6:05-9:00 PM\n"
     ]
    }
   ],
   "source": [
    "# \"Old style\" string formatting\n",
    "course_title=\"Data Mining for Business Analytics\"\n",
    "print(\"This course title is\", course_title)\n",
    "print()\n",
    "\n",
    "# \"Old style\" string formatting with \"%\" operator\n",
    "section_1=\"CIS 9660 URA\"\n",
    "print(\"The course section is %s\\n\" % (section_1))\n",
    "\n",
    "# \"New Style\" string formatting\n",
    "classroom=\"B - Vert - 9-135\"\n",
    "print(\"Our classroom is {}\\n\".format(classroom))\n",
    "\n",
    "# Python 3.6+ string interpolation / f-strings (formatted string literals)\n",
    "day_1=\"Thursdays\"\n",
    "time_slot=\"6:05-9:00 PM\"\n",
    "print(f\"Our class meets on {day_1} during {time_slot}\")"
   ]
  },
  {
   "cell_type": "markdown",
   "id": "82b26ae3",
   "metadata": {},
   "source": [
    "### Arithmetic operators"
   ]
  },
  {
   "cell_type": "code",
   "execution_count": 33,
   "id": "5dfbbbcf",
   "metadata": {},
   "outputs": [
    {
     "name": "stdout",
     "output_type": "stream",
     "text": [
      "addition: 7\n",
      "subtraction: 3\n",
      "multiplication: 10\n",
      "division: 2.5\n",
      "integer division: 2\n",
      "modulo: 1\n",
      "power: 25\n"
     ]
    }
   ],
   "source": [
    "# +, -, *, /, // (integer division), % (modulo), ** (power)\n",
    "x = 5\n",
    "y = 2\n",
    "print(\"addition:\", x + y)\n",
    "print(\"subtraction:\", x - y)\n",
    "print(\"multiplication:\", x * y)\n",
    "print(\"division:\", x / y)\n",
    "print(\"integer division:\", x // y)\n",
    "print(\"modulo:\", x % y)\n",
    "print(\"power:\", x ** y)"
   ]
  },
  {
   "cell_type": "markdown",
   "id": "9a674112",
   "metadata": {},
   "source": [
    "### Boolean operators"
   ]
  },
  {
   "cell_type": "code",
   "execution_count": 34,
   "id": "69c8b15b",
   "metadata": {},
   "outputs": [
    {
     "name": "stdout",
     "output_type": "stream",
     "text": [
      "and: False\n",
      "or: True\n",
      "not: True\n"
     ]
    }
   ],
   "source": [
    "# and, or, not\n",
    "x = True\n",
    "y = False\n",
    "print(\"and:\", x and y)\n",
    "print(\"or:\", x or y)\n",
    "print(\"not:\", not y)"
   ]
  },
  {
   "cell_type": "markdown",
   "id": "48d8dfd0",
   "metadata": {},
   "source": [
    "### Comparison operators"
   ]
  },
  {
   "cell_type": "code",
   "execution_count": 35,
   "id": "e1e0fb64",
   "metadata": {},
   "outputs": [
    {
     "name": "stdout",
     "output_type": "stream",
     "text": [
      "x greater than z: False\n",
      "x greater than or equal to z: True\n",
      "x less than y: False\n",
      "x less than or equal to z: True\n",
      "x equal to y: False\n",
      "x not equal to y: True\n"
     ]
    }
   ],
   "source": [
    "# >, >=, <, <=, ==, !=\n",
    "x = 5\n",
    "y = 2\n",
    "z = 5\n",
    "print(\"x greater than z:\", x > z)\n",
    "print(\"x greater than or equal to z:\", x >= z)\n",
    "print(\"x less than y:\", x < y)\n",
    "print(\"x less than or equal to z:\", x <= z)\n",
    "print(\"x equal to y:\", x == y)\n",
    "print(\"x not equal to y:\", x != y)"
   ]
  },
  {
   "cell_type": "markdown",
   "id": "9d86c00b",
   "metadata": {},
   "source": [
    "### Assignment operators"
   ]
  },
  {
   "cell_type": "code",
   "execution_count": 36,
   "id": "83c05484",
   "metadata": {},
   "outputs": [
    {
     "name": "stdout",
     "output_type": "stream",
     "text": [
      "x = 1\n",
      "y = 1\n",
      "x = 2\n",
      "y = 1\n"
     ]
    }
   ],
   "source": [
    "x = 1\n",
    "print(\"x =\",x)\n",
    "y = x\n",
    "print(\"y =\",y)\n",
    "x = x + 1\n",
    "print(\"x =\",x)\n",
    "print(\"y =\",y)"
   ]
  },
  {
   "cell_type": "code",
   "execution_count": 37,
   "id": "560abe4a",
   "metadata": {},
   "outputs": [
    {
     "name": "stdout",
     "output_type": "stream",
     "text": [
      "x = 3\n",
      "x = 2\n",
      "y = 1\n"
     ]
    }
   ],
   "source": [
    "x += 1\n",
    "print(\"x =\",x)\n",
    "x -= 1\n",
    "print(\"x =\",x)\n",
    "print(\"y =\",y)"
   ]
  },
  {
   "cell_type": "markdown",
   "id": "2d53a833",
   "metadata": {},
   "source": [
    "### Data types"
   ]
  },
  {
   "cell_type": "code",
   "execution_count": 38,
   "id": "d965e2e0",
   "metadata": {},
   "outputs": [
    {
     "name": "stdout",
     "output_type": "stream",
     "text": [
      "a = Hello, World !\n",
      "a = Hello, World, again !!!\n"
     ]
    }
   ],
   "source": [
    "#######\n",
    "# str #\n",
    "#######\n",
    "a = \"Hello, World !\"\n",
    "print(\"a =\", a)\n",
    "# Can optionally explicitly set the data type\n",
    "a = str(\"Hello, World, again !!!\")\n",
    "print(\"a =\", a)"
   ]
  },
  {
   "cell_type": "code",
   "execution_count": 39,
   "id": "f7ba2ed3",
   "metadata": {},
   "outputs": [
    {
     "name": "stdout",
     "output_type": "stream",
     "text": [
      "b = 10\n",
      "b's data type is <class 'int'>\n"
     ]
    }
   ],
   "source": [
    "#######\n",
    "# int #\n",
    "#######\n",
    "b = 10\n",
    "print(\"b =\", b)\n",
    "# Evaluate the data type\n",
    "print(\"b's data type is\", type(b))"
   ]
  },
  {
   "cell_type": "code",
   "execution_count": 40,
   "id": "8842dd9d",
   "metadata": {},
   "outputs": [
    {
     "name": "stdout",
     "output_type": "stream",
     "text": [
      "c = 5.2\n"
     ]
    }
   ],
   "source": [
    "#########\n",
    "# float #\n",
    "#########\n",
    "c = 5.2\n",
    "print(\"c =\", c)"
   ]
  },
  {
   "cell_type": "code",
   "execution_count": 41,
   "id": "76ebe7a9",
   "metadata": {},
   "outputs": [
    {
     "name": "stdout",
     "output_type": "stream",
     "text": [
      "d = True\n"
     ]
    }
   ],
   "source": [
    "########\n",
    "# bool #\n",
    "########\n",
    "d = True\n",
    "print(\"d =\", d)"
   ]
  },
  {
   "cell_type": "markdown",
   "id": "d3deed91",
   "metadata": {},
   "source": [
    "### Collections\n",
    "\n",
    "#### A collection stores multiple items in a single variable.\n",
    "#### Types of collections: list, tuple, set, dict, etc."
   ]
  },
  {
   "cell_type": "code",
   "execution_count": 42,
   "id": "f3ea9476",
   "metadata": {},
   "outputs": [
    {
     "name": "stdout",
     "output_type": "stream",
     "text": [
      "e1 = ['pear', 'orange', 'apple', 'pear']\n",
      "e1[2] = apple\n",
      "e2 = ['grape', 'cherry']\n"
     ]
    }
   ],
   "source": [
    "########\n",
    "# list #\n",
    "########\n",
    "# A list is a collection which is ordered and changeable. Allows duplicate members.\n",
    "\n",
    "e1 = [\"pear\", \"orange\", \"apple\", \"pear\"]\n",
    "print(\"e1 =\", e1)\n",
    "print(\"e1[2] =\", e1[2])\n",
    "\n",
    "e2 = [\"grape\", \"cherry\"]\n",
    "print(\"e2 =\", e2)"
   ]
  },
  {
   "cell_type": "code",
   "execution_count": 43,
   "id": "dbefaf28",
   "metadata": {},
   "outputs": [
    {
     "data": {
      "text/plain": [
       "['pear', 'orange', 'apple', 'pear', 'grape', 'cherry']"
      ]
     },
     "execution_count": 43,
     "metadata": {},
     "output_type": "execute_result"
    }
   ],
   "source": [
    "e3 = e1 + e2\n",
    "e3"
   ]
  },
  {
   "cell_type": "code",
   "execution_count": 44,
   "id": "8d370d96",
   "metadata": {},
   "outputs": [
    {
     "data": {
      "text/plain": [
       "['pear', 'orange', 'apple', 'pear', 'grape', 'cherry', 'banana']"
      ]
     },
     "execution_count": 44,
     "metadata": {},
     "output_type": "execute_result"
    }
   ],
   "source": [
    "e3.append(\"banana\")\n",
    "e3"
   ]
  },
  {
   "cell_type": "code",
   "execution_count": 45,
   "id": "d031b8e0",
   "metadata": {},
   "outputs": [
    {
     "data": {
      "text/plain": [
       "['pear', 'orange', 'peach', 'apple', 'pear', 'grape', 'cherry', 'banana']"
      ]
     },
     "execution_count": 45,
     "metadata": {},
     "output_type": "execute_result"
    }
   ],
   "source": [
    "e3.insert(2,\"peach\")\n",
    "e3"
   ]
  },
  {
   "cell_type": "code",
   "execution_count": 46,
   "id": "3c089e06",
   "metadata": {},
   "outputs": [
    {
     "data": {
      "text/plain": [
       "['orange', 'peach', 'apple', 'pear', 'grape', 'cherry', 'banana']"
      ]
     },
     "execution_count": 46,
     "metadata": {},
     "output_type": "execute_result"
    }
   ],
   "source": [
    "e3.remove(\"pear\")\n",
    "e3"
   ]
  },
  {
   "cell_type": "code",
   "execution_count": 47,
   "id": "698ea10b",
   "metadata": {},
   "outputs": [
    {
     "data": {
      "text/plain": [
       "['apple', 'banana', 'cherry', 'grape', 'orange', 'peach', 'pear']"
      ]
     },
     "execution_count": 47,
     "metadata": {},
     "output_type": "execute_result"
    }
   ],
   "source": [
    "e3.sort()     # sorts the list in-place\n",
    "e3"
   ]
  },
  {
   "cell_type": "code",
   "execution_count": 48,
   "id": "dcd3211a",
   "metadata": {},
   "outputs": [
    {
     "data": {
      "text/plain": [
       "7"
      ]
     },
     "execution_count": 48,
     "metadata": {},
     "output_type": "execute_result"
    }
   ],
   "source": [
    "len(e3)"
   ]
  },
  {
   "cell_type": "code",
   "execution_count": 49,
   "id": "c5ac75e4",
   "metadata": {},
   "outputs": [
    {
     "name": "stdout",
     "output_type": "stream",
     "text": [
      "f = ('apple', 'pear', 'peach', 'banana', 'pear')\n"
     ]
    }
   ],
   "source": [
    "#########\n",
    "# tuple #\n",
    "#########\n",
    "# A tuple is a collection which is ordered and unchangeable. Allows duplicate members.\n",
    "\n",
    "f = (\"apple\", \"pear\", \"peach\", \"banana\", \"pear\")\n",
    "print(\"f =\", f)"
   ]
  },
  {
   "cell_type": "code",
   "execution_count": 50,
   "id": "6cdfce9f",
   "metadata": {},
   "outputs": [
    {
     "data": {
      "text/plain": [
       "True"
      ]
     },
     "execution_count": 50,
     "metadata": {},
     "output_type": "execute_result"
    }
   ],
   "source": [
    "\"banana\" in f"
   ]
  },
  {
   "cell_type": "code",
   "execution_count": 51,
   "id": "bd9e77b5",
   "metadata": {},
   "outputs": [
    {
     "data": {
      "text/plain": [
       "2"
      ]
     },
     "execution_count": 51,
     "metadata": {},
     "output_type": "execute_result"
    }
   ],
   "source": [
    "f.count(\"pear\")"
   ]
  },
  {
   "cell_type": "code",
   "execution_count": 52,
   "id": "8dec6866",
   "metadata": {},
   "outputs": [
    {
     "data": {
      "text/plain": [
       "3"
      ]
     },
     "execution_count": 52,
     "metadata": {},
     "output_type": "execute_result"
    }
   ],
   "source": [
    "f.index(\"banana\")"
   ]
  },
  {
   "cell_type": "code",
   "execution_count": 53,
   "id": "7f02b9a8",
   "metadata": {},
   "outputs": [
    {
     "name": "stdout",
     "output_type": "stream",
     "text": [
      "g1 = {1, 2, 3}\n",
      "g2 = {3, 4, 5, 6}\n"
     ]
    }
   ],
   "source": [
    "#######\n",
    "# set #\n",
    "#######\n",
    "# A set is a collection which is unordered and changeable. No duplicate members.\n",
    "\n",
    "g1 = {1, 2, 3}\n",
    "print(\"g1 =\", g1)\n",
    "\n",
    "g2 = {3, 4, 5, 6}\n",
    "print(\"g2 =\", g2)"
   ]
  },
  {
   "cell_type": "code",
   "execution_count": 54,
   "id": "101e625b",
   "metadata": {},
   "outputs": [
    {
     "data": {
      "text/plain": [
       "{1, 2, 3, 4}"
      ]
     },
     "execution_count": 54,
     "metadata": {},
     "output_type": "execute_result"
    }
   ],
   "source": [
    "g1.add(4)\n",
    "g1"
   ]
  },
  {
   "cell_type": "code",
   "execution_count": 55,
   "id": "c836c09b",
   "metadata": {},
   "outputs": [
    {
     "data": {
      "text/plain": [
       "{1, 2, 4}"
      ]
     },
     "execution_count": 55,
     "metadata": {},
     "output_type": "execute_result"
    }
   ],
   "source": [
    "g1.remove(3)\n",
    "g1"
   ]
  },
  {
   "cell_type": "code",
   "execution_count": 56,
   "id": "004e45a6",
   "metadata": {},
   "outputs": [
    {
     "data": {
      "text/plain": [
       "{3, 4, 5, 6}"
      ]
     },
     "execution_count": 56,
     "metadata": {},
     "output_type": "execute_result"
    }
   ],
   "source": [
    "g2.add(4)     # g2 is unchanged since 4 is already a member of the set\n",
    "g2"
   ]
  },
  {
   "cell_type": "code",
   "execution_count": 57,
   "id": "7b0c5bd2",
   "metadata": {},
   "outputs": [
    {
     "data": {
      "text/plain": [
       "{1, 2, 3, 4, 5, 6}"
      ]
     },
     "execution_count": 57,
     "metadata": {},
     "output_type": "execute_result"
    }
   ],
   "source": [
    "g3 = g1.union(g2)\n",
    "g3"
   ]
  },
  {
   "cell_type": "code",
   "execution_count": 58,
   "id": "212950f5",
   "metadata": {},
   "outputs": [
    {
     "data": {
      "text/plain": [
       "{4}"
      ]
     },
     "execution_count": 58,
     "metadata": {},
     "output_type": "execute_result"
    }
   ],
   "source": [
    "g4 = g1.intersection(g2)\n",
    "g4"
   ]
  },
  {
   "cell_type": "code",
   "execution_count": 59,
   "id": "98dc61da",
   "metadata": {},
   "outputs": [
    {
     "data": {
      "text/plain": [
       "{1, 2}"
      ]
     },
     "execution_count": 59,
     "metadata": {},
     "output_type": "execute_result"
    }
   ],
   "source": [
    "g5 = g1.difference(g2)\n",
    "g5"
   ]
  },
  {
   "cell_type": "code",
   "execution_count": 60,
   "id": "20343aaf",
   "metadata": {},
   "outputs": [
    {
     "data": {
      "text/plain": [
       "{3, 5, 6}"
      ]
     },
     "execution_count": 60,
     "metadata": {},
     "output_type": "execute_result"
    }
   ],
   "source": [
    "g6 = g2.difference(g1)\n",
    "g6"
   ]
  },
  {
   "cell_type": "code",
   "execution_count": 61,
   "id": "a13e673e",
   "metadata": {},
   "outputs": [
    {
     "name": "stdout",
     "output_type": "stream",
     "text": [
      "h = {'first_name': 'Guido', 'last_name': 'von Rossum', 'language': 'Python', 'created': {'year': 1991, 'month': 'February', 'day': 20}}\n"
     ]
    }
   ],
   "source": [
    "########\n",
    "# dict #\n",
    "########\n",
    "# A dictionary is a collection which is ordered (insertion-order) and changeable. No duplicate members.\n",
    "# Ordered as of Python 3.6 and later\n",
    "\n",
    "h = {\n",
    "        \"first_name\" : \"Guido\",\n",
    "        \"last_name\" : \"von Rossum\",\n",
    "        \"language\" : \"Python\",\n",
    "        \"created\" : {\n",
    "            \"year\" : 1991,\n",
    "            \"month\" : \"February\",\n",
    "            \"day\" : 20\n",
    "            }\n",
    "}\n",
    "print(\"h =\", h)"
   ]
  },
  {
   "cell_type": "code",
   "execution_count": 62,
   "id": "b4307b0b",
   "metadata": {},
   "outputs": [
    {
     "name": "stdout",
     "output_type": "stream",
     "text": [
      "{'created': {'day': 20, 'month': 'February', 'year': 1991},\n",
      " 'first_name': 'Guido',\n",
      " 'language': 'Python',\n",
      " 'last_name': 'von Rossum'}\n"
     ]
    }
   ],
   "source": [
    "import pprint\n",
    "pp = pprint.PrettyPrinter()\n",
    "pp.pprint(h)"
   ]
  },
  {
   "cell_type": "markdown",
   "id": "901910be",
   "metadata": {},
   "source": [
    "### Conditional logic"
   ]
  },
  {
   "cell_type": "code",
   "execution_count": 63,
   "id": "cd247c08",
   "metadata": {},
   "outputs": [],
   "source": [
    "################\n",
    "# if then else #\n",
    "################"
   ]
  },
  {
   "cell_type": "code",
   "execution_count": 64,
   "id": "83769dce",
   "metadata": {},
   "outputs": [
    {
     "name": "stdout",
     "output_type": "stream",
     "text": [
      "b is greater than a\n"
     ]
    }
   ],
   "source": [
    "a = 10\n",
    "b = 20\n",
    "if b > a:\n",
    "    print(\"b is greater than a\")"
   ]
  },
  {
   "cell_type": "code",
   "execution_count": 65,
   "id": "ecd98863",
   "metadata": {},
   "outputs": [
    {
     "name": "stdout",
     "output_type": "stream",
     "text": [
      "b is greater than a\n"
     ]
    }
   ],
   "source": [
    "if a > b:\n",
    "    print(\"a is greater than b\")\n",
    "else:\n",
    "    print(\"b is greater than a\")"
   ]
  },
  {
   "cell_type": "code",
   "execution_count": 66,
   "id": "253786b3",
   "metadata": {},
   "outputs": [
    {
     "name": "stdout",
     "output_type": "stream",
     "text": [
      "a is equal to b\n"
     ]
    }
   ],
   "source": [
    "c = 10\n",
    "if a > c:\n",
    "    print(\"a is greater than b\")\n",
    "elif a == c: \n",
    "    print(\"a is equal to b\")"
   ]
  },
  {
   "cell_type": "markdown",
   "id": "bf23465d",
   "metadata": {},
   "source": [
    "### Loops"
   ]
  },
  {
   "cell_type": "code",
   "execution_count": 67,
   "id": "999891ae",
   "metadata": {},
   "outputs": [],
   "source": [
    "#########\n",
    "# while #\n",
    "#########"
   ]
  },
  {
   "cell_type": "code",
   "execution_count": 68,
   "id": "0215e947",
   "metadata": {},
   "outputs": [
    {
     "name": "stdout",
     "output_type": "stream",
     "text": [
      "1\n",
      "2\n",
      "3\n",
      "4\n"
     ]
    }
   ],
   "source": [
    "d = 1\n",
    "e = 5\n",
    "while d < e:\n",
    "    print(d)\n",
    "    d += 1     # d = d + 1"
   ]
  },
  {
   "cell_type": "code",
   "execution_count": 69,
   "id": "d260bbf6",
   "metadata": {},
   "outputs": [
    {
     "name": "stdout",
     "output_type": "stream",
     "text": [
      "1\n",
      "2\n",
      "3\n"
     ]
    }
   ],
   "source": [
    "d = 1\n",
    "e = 10\n",
    "while d < e:\n",
    "    if d ** 2 > e:     # if square of d is > e break out of loop\n",
    "        break\n",
    "    print(d)\n",
    "    d += 1"
   ]
  },
  {
   "cell_type": "code",
   "execution_count": 70,
   "id": "7d2e8f98",
   "metadata": {},
   "outputs": [
    {
     "name": "stdout",
     "output_type": "stream",
     "text": [
      "1\n",
      "3\n",
      "5\n",
      "7\n",
      "9\n"
     ]
    }
   ],
   "source": [
    "d = 0\n",
    "e = 10\n",
    "while d < e:\n",
    "    d += 1\n",
    "    if d % 2 == 0:     # if d is an even number skip to next iteration\n",
    "        continue\n",
    "    print(d)"
   ]
  },
  {
   "cell_type": "code",
   "execution_count": 71,
   "id": "4b1ed942",
   "metadata": {},
   "outputs": [],
   "source": [
    "#######\n",
    "# for #\n",
    "#######"
   ]
  },
  {
   "cell_type": "code",
   "execution_count": 72,
   "id": "bd5d4f3c",
   "metadata": {},
   "outputs": [
    {
     "data": {
      "text/plain": [
       "['plum', 'banana', 'peach', 'blueberry', 'apple', 'orange', 'cherry', 'pear']"
      ]
     },
     "execution_count": 72,
     "metadata": {},
     "output_type": "execute_result"
    }
   ],
   "source": [
    "fruits = [\"plum\", \"banana\", \"peach\", \"blueberry\", \"apple\", \"orange\", \"cherry\", \"pear\"]\n",
    "fruits"
   ]
  },
  {
   "cell_type": "code",
   "execution_count": 73,
   "id": "ed42a731",
   "metadata": {},
   "outputs": [
    {
     "name": "stdout",
     "output_type": "stream",
     "text": [
      "plum\n",
      "peach\n",
      "apple\n",
      "pear\n"
     ]
    }
   ],
   "source": [
    "for g in fruits:\n",
    "    if len(g) > 5:     # if length of fruit is > 5 skip to next iteration\n",
    "        continue\n",
    "    print(g)"
   ]
  },
  {
   "cell_type": "code",
   "execution_count": 74,
   "id": "0beec20b",
   "metadata": {},
   "outputs": [
    {
     "name": "stdout",
     "output_type": "stream",
     "text": [
      "plum\n",
      "banana\n",
      "peach\n"
     ]
    }
   ],
   "source": [
    "for h in fruits:\n",
    "    if len(h) > 6:     # if length of fruit is > 6 break out of loop\n",
    "        break\n",
    "    print(h)"
   ]
  },
  {
   "cell_type": "markdown",
   "id": "dfec55d6",
   "metadata": {},
   "source": [
    "### Generators & Iterators\n",
    "#### A generator creates a set of values returned in an iterator.\n",
    "#### An iterator is an object that can be iterated on. \n",
    "#### Every generator is an iterator, but not vice versa."
   ]
  },
  {
   "cell_type": "code",
   "execution_count": 75,
   "id": "00037947",
   "metadata": {
    "scrolled": true
   },
   "outputs": [
    {
     "name": "stdout",
     "output_type": "stream",
     "text": [
      "range(0, 5)\n",
      "[0, 1, 2, 3, 4]\n"
     ]
    }
   ],
   "source": [
    "numbers = range(5)      # generates a sequence of numbers from 0 to 4\n",
    "                        # range(5) is the same as range(0,5,1)\n",
    "print(numbers)\n",
    "print(list(numbers))"
   ]
  },
  {
   "cell_type": "code",
   "execution_count": 76,
   "id": "06dab411",
   "metadata": {},
   "outputs": [
    {
     "name": "stdout",
     "output_type": "stream",
     "text": [
      "range(2, 10, 2)\n",
      "[2, 4, 6, 8]\n"
     ]
    }
   ],
   "source": [
    "even_numbers = range(2,10,2)     # generates a sequence of numbers (incremented by 2) from 2 to 10\n",
    "print(even_numbers)\n",
    "print(list(even_numbers))"
   ]
  },
  {
   "cell_type": "code",
   "execution_count": 77,
   "id": "2811bbbf",
   "metadata": {},
   "outputs": [
    {
     "data": {
      "text/plain": [
       "[4, 16, 36, 64]"
      ]
     },
     "execution_count": 77,
     "metadata": {},
     "output_type": "execute_result"
    }
   ],
   "source": [
    "squares = []\n",
    "\n",
    "for x in even_numbers:\n",
    "    squares.append(x**2)\n",
    "    \n",
    "squares"
   ]
  },
  {
   "cell_type": "markdown",
   "id": "31365abd",
   "metadata": {},
   "source": [
    "### List comprehensions\n",
    "\n",
    "#### Create a list from an iterable (strings, arrays, lists, tuples, etc.).  The original list is unchanged."
   ]
  },
  {
   "cell_type": "code",
   "execution_count": 78,
   "id": "753ce0e4",
   "metadata": {},
   "outputs": [
    {
     "name": "stdout",
     "output_type": "stream",
     "text": [
      "numbers_2 = [0, 1, 2, 3, 4, 5, 6, 7, 8, 9]\n",
      "numbers_2_subset = [0, 1, 2, 3, 4]\n"
     ]
    }
   ],
   "source": [
    "numbers_2 = range(10)\n",
    "print('numbers_2 =', list(numbers_2))\n",
    "\n",
    "# [ EXPRESSION for ITEM in ITERABLE if CONDITION ]\n",
    "numbers_2_subset = [ x for x in numbers_2 if x < 5 ]\n",
    "\n",
    "print('numbers_2_subset =', numbers_2_subset)"
   ]
  },
  {
   "cell_type": "code",
   "execution_count": 79,
   "id": "4142e50f",
   "metadata": {},
   "outputs": [
    {
     "data": {
      "text/plain": [
       "[0, 4, 16, 36, 64]"
      ]
     },
     "execution_count": 79,
     "metadata": {},
     "output_type": "execute_result"
    }
   ],
   "source": [
    "even_squares = [ x**2 for x in range(10) if x % 2 == 0 ]\n",
    "even_squares"
   ]
  },
  {
   "cell_type": "markdown",
   "id": "ab9538a8",
   "metadata": {},
   "source": [
    "### Indexing & slicing lists"
   ]
  },
  {
   "cell_type": "code",
   "execution_count": 80,
   "id": "f59e7feb",
   "metadata": {},
   "outputs": [
    {
     "name": "stdout",
     "output_type": "stream",
     "text": [
      "[0, 10, 20, 30, 40, 50, 60, 70, 80, 90]\n"
     ]
    }
   ],
   "source": [
    "numbers_3 = range(0,100,10)\n",
    "print(list(numbers_3))"
   ]
  },
  {
   "cell_type": "code",
   "execution_count": 81,
   "id": "5d743dce",
   "metadata": {},
   "outputs": [
    {
     "name": "stdout",
     "output_type": "stream",
     "text": [
      "[0, 10, 20, 30]\n",
      "[0, 10, 20, 30]\n"
     ]
    }
   ],
   "source": [
    "# First n elements of a list\n",
    "numbers_3a = numbers_3[0:4]\n",
    "print(list(numbers_3a))\n",
    "\n",
    "numbers_3b = numbers_3[:4]\n",
    "print(list(numbers_3b))"
   ]
  },
  {
   "cell_type": "code",
   "execution_count": 82,
   "id": "d7433a1b",
   "metadata": {},
   "outputs": [
    {
     "name": "stdout",
     "output_type": "stream",
     "text": [
      "[70, 80, 90]\n"
     ]
    }
   ],
   "source": [
    "# Last n elements of a list\n",
    "numbers_3c = numbers_3[-3:]\n",
    "print(list(numbers_3c))"
   ]
  },
  {
   "cell_type": "code",
   "execution_count": 83,
   "id": "48199344",
   "metadata": {},
   "outputs": [
    {
     "name": "stdout",
     "output_type": "stream",
     "text": [
      "[0, 10, 20, 30, 40, 50]\n"
     ]
    }
   ],
   "source": [
    "# All but last n elements of a list\n",
    "numbers_3d = numbers_3[:-4]\n",
    "print(list(numbers_3d))"
   ]
  },
  {
   "cell_type": "markdown",
   "id": "48f8defd",
   "metadata": {},
   "source": [
    "### Functions"
   ]
  },
  {
   "cell_type": "code",
   "execution_count": 84,
   "id": "2620177f",
   "metadata": {},
   "outputs": [
    {
     "data": {
      "text/plain": [
       "64"
      ]
     },
     "execution_count": 84,
     "metadata": {},
     "output_type": "execute_result"
    }
   ],
   "source": [
    "def raise_to(number, power):\n",
    "    new_value = number ** power\n",
    "    return new_value\n",
    "    \n",
    "raise_to(4, 3)"
   ]
  },
  {
   "cell_type": "code",
   "execution_count": 85,
   "id": "c485429c",
   "metadata": {},
   "outputs": [
    {
     "data": {
      "text/plain": [
       "49"
      ]
     },
     "execution_count": 85,
     "metadata": {},
     "output_type": "execute_result"
    }
   ],
   "source": [
    "def raise_to_with_default(number, power=2):\n",
    "    return number ** power\n",
    "\n",
    "raise_to_with_default(7)"
   ]
  },
  {
   "cell_type": "code",
   "execution_count": 86,
   "id": "86c6122b",
   "metadata": {
    "scrolled": true
   },
   "outputs": [
    {
     "data": {
      "text/plain": [
       "'Raise a number to a power. Default power = 2.'"
      ]
     },
     "execution_count": 86,
     "metadata": {},
     "output_type": "execute_result"
    }
   ],
   "source": [
    "def raise_to_with_default(number, power=2):\n",
    "    \"\"\"Raise a number to a power. Default power = 2.\"\"\"\n",
    "    return number ** power\n",
    "\n",
    "raise_to_with_default.__doc__"
   ]
  },
  {
   "cell_type": "markdown",
   "id": "ad85bc2b",
   "metadata": {},
   "source": [
    "### Python shell"
   ]
  },
  {
   "cell_type": "code",
   "execution_count": 87,
   "id": "b8d3932f",
   "metadata": {},
   "outputs": [
    {
     "name": "stderr",
     "output_type": "stream",
     "text": [
      "'pwd' is not recognized as an internal or external command,\n",
      "operable program or batch file.\n"
     ]
    }
   ],
   "source": [
    "! pwd"
   ]
  },
  {
   "cell_type": "code",
   "execution_count": 88,
   "id": "830308cb",
   "metadata": {},
   "outputs": [
    {
     "name": "stderr",
     "output_type": "stream",
     "text": [
      "'ls' is not recognized as an internal or external command,\n",
      "operable program or batch file.\n"
     ]
    }
   ],
   "source": [
    "! ls -l | grep ^d"
   ]
  },
  {
   "cell_type": "markdown",
   "id": "8df74330",
   "metadata": {},
   "source": [
    "### Create the following directories, if they don't exist\n",
    "#### syntax:  mkdir directory_name\n",
    "* data\n",
    "* images\n",
    "* models\n"
   ]
  },
  {
   "cell_type": "code",
   "execution_count": 89,
   "id": "1c47242d",
   "metadata": {},
   "outputs": [
    {
     "name": "stdout",
     "output_type": "stream",
     "text": [
      "[WinError 2] The system cannot find the file specified: 'data'\n",
      "C:\\Users\\15513\\Desktop\\Baruch\\Second Sem\\Data Mining\\2\\Work\\python\n"
     ]
    }
   ],
   "source": [
    "%cd data"
   ]
  },
  {
   "cell_type": "code",
   "execution_count": 90,
   "id": "89445a89",
   "metadata": {},
   "outputs": [
    {
     "name": "stderr",
     "output_type": "stream",
     "text": [
      "'ls' is not recognized as an internal or external command,\n",
      "operable program or batch file.\n"
     ]
    }
   ],
   "source": [
    "! ls"
   ]
  }
 ],
 "metadata": {
  "kernelspec": {
   "display_name": "Python 3 (ipykernel)",
   "language": "python",
   "name": "python3"
  },
  "language_info": {
   "codemirror_mode": {
    "name": "ipython",
    "version": 3
   },
   "file_extension": ".py",
   "mimetype": "text/x-python",
   "name": "python",
   "nbconvert_exporter": "python",
   "pygments_lexer": "ipython3",
   "version": "3.9.13"
  }
 },
 "nbformat": 4,
 "nbformat_minor": 5
}
