{
 "cells": [
  {
   "cell_type": "markdown",
   "id": "99465999",
   "metadata": {},
   "source": [
    "# Exercise NumPy & Pandas\n",
    "Data file: parks.csv"
   ]
  },
  {
   "cell_type": "markdown",
   "id": "7349fdcc",
   "metadata": {},
   "source": [
    "## Part 1: NumPy"
   ]
  },
  {
   "cell_type": "markdown",
   "id": "ee5f0b2a",
   "metadata": {},
   "source": [
    "### Import libraries"
   ]
  },
  {
   "cell_type": "code",
   "execution_count": 34,
   "id": "eb114eb0",
   "metadata": {},
   "outputs": [],
   "source": [
    "import numpy as np"
   ]
  },
  {
   "cell_type": "markdown",
   "id": "a916156c",
   "metadata": {},
   "source": [
    "### Create a 1-dimensional array with the following elements:\n",
    "'a', 'd', 'e', 'd', 'b', 'b', 'c', 'f', 'c'"
   ]
  },
  {
   "cell_type": "code",
   "execution_count": 35,
   "id": "b00ed78a",
   "metadata": {},
   "outputs": [
    {
     "name": "stdout",
     "output_type": "stream",
     "text": [
      "['a' 'd' 'e' 'd' 'b' 'b' 'c' 'f' 'c']\n"
     ]
    }
   ],
   "source": [
    "a= np.array(['a', 'd', 'e', 'd', 'b', 'b', 'c', 'f', 'c'])\n",
    "print(a) #numpy array"
   ]
  },
  {
   "cell_type": "markdown",
   "id": "1761f9f6",
   "metadata": {},
   "source": [
    "### Examine data"
   ]
  },
  {
   "cell_type": "code",
   "execution_count": 36,
   "id": "1aef5aa5",
   "metadata": {},
   "outputs": [
    {
     "name": "stdout",
     "output_type": "stream",
     "text": [
      "['a' 'd' 'e' 'd' 'b' 'b' 'c' 'f' 'c']\n"
     ]
    }
   ],
   "source": [
    "# Display array\n",
    "print(a)"
   ]
  },
  {
   "cell_type": "code",
   "execution_count": 37,
   "id": "3b35dc5a",
   "metadata": {},
   "outputs": [
    {
     "data": {
      "text/plain": [
       "(9,)"
      ]
     },
     "execution_count": 37,
     "metadata": {},
     "output_type": "execute_result"
    }
   ],
   "source": [
    "# Display number of elements in array\n",
    "np.shape(a) #numpyshape"
   ]
  },
  {
   "cell_type": "code",
   "execution_count": 38,
   "id": "01ed9e23",
   "metadata": {},
   "outputs": [
    {
     "data": {
      "text/plain": [
       "(9,)"
      ]
     },
     "execution_count": 38,
     "metadata": {},
     "output_type": "execute_result"
    }
   ],
   "source": [
    "# Display number of elements in array\n",
    "np.shape(a)"
   ]
  },
  {
   "cell_type": "code",
   "execution_count": 39,
   "id": "3c793976",
   "metadata": {},
   "outputs": [
    {
     "data": {
      "text/plain": [
       "array(['a', 'b', 'c', 'd', 'e', 'f'], dtype='<U1')"
      ]
     },
     "execution_count": 39,
     "metadata": {},
     "output_type": "execute_result"
    }
   ],
   "source": [
    "# Display unique elements in array\n",
    "np.unique(a) #the numpy unique function"
   ]
  },
  {
   "cell_type": "code",
   "execution_count": 40,
   "id": "751839ce",
   "metadata": {},
   "outputs": [
    {
     "data": {
      "text/plain": [
       "(6,)"
      ]
     },
     "execution_count": 40,
     "metadata": {},
     "output_type": "execute_result"
    }
   ],
   "source": [
    "# Display number of unique elements in array\n",
    "np.shape(np.unique(a)) #we are calling unique in shape"
   ]
  },
  {
   "cell_type": "markdown",
   "id": "e507541a",
   "metadata": {},
   "source": [
    "### Create a 2-dimensional array with the following elements:\n",
    "row 1 = 'a', 'd', 'c'  \n",
    "row 2 = 'd', 'e', 'f'  \n",
    "row 1 = 'g', 'h', 'i'  \n",
    "row 2 = 'j', 'k', 'l'  "
   ]
  },
  {
   "cell_type": "code",
   "execution_count": 41,
   "id": "d62072da",
   "metadata": {},
   "outputs": [],
   "source": [
    "a= np.array([['a', 'd', 'c','g', 'h', 'i'],['d', 'e', 'f', 'j', 'k', 'l']])"
   ]
  },
  {
   "cell_type": "markdown",
   "id": "95ed9dda",
   "metadata": {},
   "source": [
    "### Examine data"
   ]
  },
  {
   "cell_type": "code",
   "execution_count": 42,
   "id": "31d34435",
   "metadata": {},
   "outputs": [
    {
     "data": {
      "text/plain": [
       "array([['a', 'd', 'c', 'g', 'h', 'i'],\n",
       "       ['d', 'e', 'f', 'j', 'k', 'l']], dtype='<U1')"
      ]
     },
     "execution_count": 42,
     "metadata": {},
     "output_type": "execute_result"
    }
   ],
   "source": [
    "# Display 2D array\n",
    "a"
   ]
  },
  {
   "cell_type": "code",
   "execution_count": 43,
   "id": "b237eb78",
   "metadata": {},
   "outputs": [
    {
     "data": {
      "text/plain": [
       "(2, 6)"
      ]
     },
     "execution_count": 43,
     "metadata": {},
     "output_type": "execute_result"
    }
   ],
   "source": [
    "a.shape"
   ]
  },
  {
   "cell_type": "markdown",
   "id": "19897ffb",
   "metadata": {},
   "source": [
    "### Slice 2D array to extract subset:\n",
    "row 1 = 'h', 'i'  \n",
    "row 2 = 'k', 'l'"
   ]
  },
  {
   "cell_type": "code",
   "execution_count": 44,
   "id": "16cddcfe",
   "metadata": {},
   "outputs": [
    {
     "data": {
      "text/plain": [
       "array([['h', 'i'],\n",
       "       ['k', 'l']], dtype='<U1')"
      ]
     },
     "execution_count": 44,
     "metadata": {},
     "output_type": "execute_result"
    }
   ],
   "source": [
    "a[:,4:6] #[row:col] #select all row \n",
    "#select col [4:6]"
   ]
  },
  {
   "cell_type": "markdown",
   "id": "28252333",
   "metadata": {},
   "source": [
    "### Transpose 2D array"
   ]
  },
  {
   "cell_type": "code",
   "execution_count": 45,
   "id": "45379c1e",
   "metadata": {},
   "outputs": [
    {
     "data": {
      "text/plain": [
       "array([['a', 'd'],\n",
       "       ['d', 'e'],\n",
       "       ['c', 'f'],\n",
       "       ['g', 'j'],\n",
       "       ['h', 'k'],\n",
       "       ['i', 'l']], dtype='<U1')"
      ]
     },
     "execution_count": 45,
     "metadata": {},
     "output_type": "execute_result"
    }
   ],
   "source": [
    "a.T #changing row into col"
   ]
  },
  {
   "cell_type": "markdown",
   "id": "453bb0d3",
   "metadata": {},
   "source": [
    "## Part 2: Pandas"
   ]
  },
  {
   "cell_type": "markdown",
   "id": "9a1a0f05",
   "metadata": {},
   "source": [
    "### Import libraries"
   ]
  },
  {
   "cell_type": "code",
   "execution_count": 46,
   "id": "c999862c",
   "metadata": {},
   "outputs": [],
   "source": [
    "import pandas as pd"
   ]
  },
  {
   "cell_type": "markdown",
   "id": "8b5509f5",
   "metadata": {},
   "source": [
    "### Load data"
   ]
  },
  {
   "cell_type": "code",
   "execution_count": 47,
   "id": "d50528b0",
   "metadata": {},
   "outputs": [],
   "source": [
    "# Read data file (parks.csv) into a dataframe\n",
    "#  NOTE: Load the data using \"Park Code\" as the index\n",
    "df= pd.read_csv(r\"parks.csv\")"
   ]
  },
  {
   "cell_type": "markdown",
   "id": "8aeccfdf",
   "metadata": {},
   "source": [
    "### Examine data"
   ]
  },
  {
   "cell_type": "code",
   "execution_count": 48,
   "id": "85826ee4",
   "metadata": {},
   "outputs": [
    {
     "data": {
      "text/html": [
       "<div>\n",
       "<style scoped>\n",
       "    .dataframe tbody tr th:only-of-type {\n",
       "        vertical-align: middle;\n",
       "    }\n",
       "\n",
       "    .dataframe tbody tr th {\n",
       "        vertical-align: top;\n",
       "    }\n",
       "\n",
       "    .dataframe thead th {\n",
       "        text-align: right;\n",
       "    }\n",
       "</style>\n",
       "<table border=\"1\" class=\"dataframe\">\n",
       "  <thead>\n",
       "    <tr style=\"text-align: right;\">\n",
       "      <th></th>\n",
       "      <th>Park Code</th>\n",
       "      <th>Park Name</th>\n",
       "      <th>State</th>\n",
       "      <th>Acres</th>\n",
       "      <th>Latitude</th>\n",
       "      <th>Longitude</th>\n",
       "    </tr>\n",
       "  </thead>\n",
       "  <tbody>\n",
       "    <tr>\n",
       "      <th>0</th>\n",
       "      <td>ACAD</td>\n",
       "      <td>Acadia National Park</td>\n",
       "      <td>ME</td>\n",
       "      <td>47390</td>\n",
       "      <td>44.35</td>\n",
       "      <td>-68.21</td>\n",
       "    </tr>\n",
       "    <tr>\n",
       "      <th>1</th>\n",
       "      <td>ARCH</td>\n",
       "      <td>Arches National Park</td>\n",
       "      <td>UT</td>\n",
       "      <td>76519</td>\n",
       "      <td>38.68</td>\n",
       "      <td>-109.57</td>\n",
       "    </tr>\n",
       "    <tr>\n",
       "      <th>2</th>\n",
       "      <td>BADL</td>\n",
       "      <td>Badlands National Park</td>\n",
       "      <td>SD</td>\n",
       "      <td>242756</td>\n",
       "      <td>43.75</td>\n",
       "      <td>-102.50</td>\n",
       "    </tr>\n",
       "    <tr>\n",
       "      <th>3</th>\n",
       "      <td>BIBE</td>\n",
       "      <td>Big Bend National Park</td>\n",
       "      <td>TX</td>\n",
       "      <td>801163</td>\n",
       "      <td>29.25</td>\n",
       "      <td>-103.25</td>\n",
       "    </tr>\n",
       "    <tr>\n",
       "      <th>4</th>\n",
       "      <td>BISC</td>\n",
       "      <td>Biscayne National Park</td>\n",
       "      <td>FL</td>\n",
       "      <td>172924</td>\n",
       "      <td>25.65</td>\n",
       "      <td>-80.08</td>\n",
       "    </tr>\n",
       "  </tbody>\n",
       "</table>\n",
       "</div>"
      ],
      "text/plain": [
       "  Park Code               Park Name State   Acres  Latitude  Longitude\n",
       "0      ACAD    Acadia National Park    ME   47390     44.35     -68.21\n",
       "1      ARCH    Arches National Park    UT   76519     38.68    -109.57\n",
       "2      BADL  Badlands National Park    SD  242756     43.75    -102.50\n",
       "3      BIBE  Big Bend National Park    TX  801163     29.25    -103.25\n",
       "4      BISC  Biscayne National Park    FL  172924     25.65     -80.08"
      ]
     },
     "execution_count": 48,
     "metadata": {},
     "output_type": "execute_result"
    }
   ],
   "source": [
    "# Display the dataframe shape\n",
    "df.head()"
   ]
  },
  {
   "cell_type": "code",
   "execution_count": 49,
   "id": "76c6c952",
   "metadata": {
    "scrolled": false
   },
   "outputs": [
    {
     "data": {
      "text/html": [
       "<div>\n",
       "<style scoped>\n",
       "    .dataframe tbody tr th:only-of-type {\n",
       "        vertical-align: middle;\n",
       "    }\n",
       "\n",
       "    .dataframe tbody tr th {\n",
       "        vertical-align: top;\n",
       "    }\n",
       "\n",
       "    .dataframe thead th {\n",
       "        text-align: right;\n",
       "    }\n",
       "</style>\n",
       "<table border=\"1\" class=\"dataframe\">\n",
       "  <thead>\n",
       "    <tr style=\"text-align: right;\">\n",
       "      <th></th>\n",
       "      <th>Park Code</th>\n",
       "      <th>Park Name</th>\n",
       "      <th>State</th>\n",
       "      <th>Acres</th>\n",
       "      <th>Latitude</th>\n",
       "      <th>Longitude</th>\n",
       "    </tr>\n",
       "  </thead>\n",
       "  <tbody>\n",
       "    <tr>\n",
       "      <th>0</th>\n",
       "      <td>ACAD</td>\n",
       "      <td>Acadia National Park</td>\n",
       "      <td>ME</td>\n",
       "      <td>47390</td>\n",
       "      <td>44.35</td>\n",
       "      <td>-68.21</td>\n",
       "    </tr>\n",
       "    <tr>\n",
       "      <th>1</th>\n",
       "      <td>ARCH</td>\n",
       "      <td>Arches National Park</td>\n",
       "      <td>UT</td>\n",
       "      <td>76519</td>\n",
       "      <td>38.68</td>\n",
       "      <td>-109.57</td>\n",
       "    </tr>\n",
       "    <tr>\n",
       "      <th>2</th>\n",
       "      <td>BADL</td>\n",
       "      <td>Badlands National Park</td>\n",
       "      <td>SD</td>\n",
       "      <td>242756</td>\n",
       "      <td>43.75</td>\n",
       "      <td>-102.50</td>\n",
       "    </tr>\n",
       "    <tr>\n",
       "      <th>3</th>\n",
       "      <td>BIBE</td>\n",
       "      <td>Big Bend National Park</td>\n",
       "      <td>TX</td>\n",
       "      <td>801163</td>\n",
       "      <td>29.25</td>\n",
       "      <td>-103.25</td>\n",
       "    </tr>\n",
       "    <tr>\n",
       "      <th>4</th>\n",
       "      <td>BISC</td>\n",
       "      <td>Biscayne National Park</td>\n",
       "      <td>FL</td>\n",
       "      <td>172924</td>\n",
       "      <td>25.65</td>\n",
       "      <td>-80.08</td>\n",
       "    </tr>\n",
       "    <tr>\n",
       "      <th>5</th>\n",
       "      <td>BLCA</td>\n",
       "      <td>Black Canyon of the Gunnison National Park</td>\n",
       "      <td>CO</td>\n",
       "      <td>32950</td>\n",
       "      <td>38.57</td>\n",
       "      <td>-107.72</td>\n",
       "    </tr>\n",
       "    <tr>\n",
       "      <th>6</th>\n",
       "      <td>BRCA</td>\n",
       "      <td>Bryce Canyon National Park</td>\n",
       "      <td>UT</td>\n",
       "      <td>35835</td>\n",
       "      <td>37.57</td>\n",
       "      <td>-112.18</td>\n",
       "    </tr>\n",
       "    <tr>\n",
       "      <th>7</th>\n",
       "      <td>CANY</td>\n",
       "      <td>Canyonlands National Park</td>\n",
       "      <td>UT</td>\n",
       "      <td>337598</td>\n",
       "      <td>38.20</td>\n",
       "      <td>-109.93</td>\n",
       "    </tr>\n",
       "    <tr>\n",
       "      <th>8</th>\n",
       "      <td>CARE</td>\n",
       "      <td>Capitol Reef National Park</td>\n",
       "      <td>UT</td>\n",
       "      <td>241904</td>\n",
       "      <td>38.20</td>\n",
       "      <td>-111.17</td>\n",
       "    </tr>\n",
       "    <tr>\n",
       "      <th>9</th>\n",
       "      <td>CAVE</td>\n",
       "      <td>Carlsbad Caverns National Park</td>\n",
       "      <td>NM</td>\n",
       "      <td>46766</td>\n",
       "      <td>32.17</td>\n",
       "      <td>-104.44</td>\n",
       "    </tr>\n",
       "  </tbody>\n",
       "</table>\n",
       "</div>"
      ],
      "text/plain": [
       "  Park Code                                   Park Name State   Acres  \\\n",
       "0      ACAD                        Acadia National Park    ME   47390   \n",
       "1      ARCH                        Arches National Park    UT   76519   \n",
       "2      BADL                      Badlands National Park    SD  242756   \n",
       "3      BIBE                      Big Bend National Park    TX  801163   \n",
       "4      BISC                      Biscayne National Park    FL  172924   \n",
       "5      BLCA  Black Canyon of the Gunnison National Park    CO   32950   \n",
       "6      BRCA                  Bryce Canyon National Park    UT   35835   \n",
       "7      CANY                   Canyonlands National Park    UT  337598   \n",
       "8      CARE                  Capitol Reef National Park    UT  241904   \n",
       "9      CAVE              Carlsbad Caverns National Park    NM   46766   \n",
       "\n",
       "   Latitude  Longitude  \n",
       "0     44.35     -68.21  \n",
       "1     38.68    -109.57  \n",
       "2     43.75    -102.50  \n",
       "3     29.25    -103.25  \n",
       "4     25.65     -80.08  \n",
       "5     38.57    -107.72  \n",
       "6     37.57    -112.18  \n",
       "7     38.20    -109.93  \n",
       "8     38.20    -111.17  \n",
       "9     32.17    -104.44  "
      ]
     },
     "execution_count": 49,
     "metadata": {},
     "output_type": "execute_result"
    }
   ],
   "source": [
    "# Display first 10 rows\n",
    "df.head(10)"
   ]
  },
  {
   "cell_type": "code",
   "execution_count": 50,
   "id": "48378db0",
   "metadata": {},
   "outputs": [
    {
     "data": {
      "text/plain": [
       "27"
      ]
     },
     "execution_count": 50,
     "metadata": {},
     "output_type": "execute_result"
    }
   ],
   "source": [
    "# Count the number of unique 'States'\n",
    "df.State.unique().size #from df we selected State used Unique function and\n",
    "#then size attribute"
   ]
  },
  {
   "cell_type": "code",
   "execution_count": 51,
   "id": "d882c96d",
   "metadata": {},
   "outputs": [
    {
     "data": {
      "text/plain": [
       "array(['ME', 'UT', 'SD', 'TX', 'FL', 'CO', 'NM', 'CA', 'SC', 'OR', 'OH',\n",
       "       'AK', 'NV', 'MT', 'AZ', 'TN', 'NC', 'WY', 'HI', 'AR', 'MI', 'KY',\n",
       "       'WA', 'VA', 'ND', 'MN', 'ID'], dtype=object)"
      ]
     },
     "execution_count": 51,
     "metadata": {},
     "output_type": "execute_result"
    }
   ],
   "source": [
    "# Display the unique 'States'\n",
    "df.State.unique()"
   ]
  },
  {
   "cell_type": "code",
   "execution_count": 52,
   "id": "c852c7d3",
   "metadata": {},
   "outputs": [],
   "source": [
    "#df=df.rename(columns = { 'Park Code':'Park_Code'})"
   ]
  },
  {
   "cell_type": "code",
   "execution_count": 53,
   "id": "9473528e",
   "metadata": {},
   "outputs": [
    {
     "data": {
      "text/html": [
       "<div>\n",
       "<style scoped>\n",
       "    .dataframe tbody tr th:only-of-type {\n",
       "        vertical-align: middle;\n",
       "    }\n",
       "\n",
       "    .dataframe tbody tr th {\n",
       "        vertical-align: top;\n",
       "    }\n",
       "\n",
       "    .dataframe thead th {\n",
       "        text-align: right;\n",
       "    }\n",
       "</style>\n",
       "<table border=\"1\" class=\"dataframe\">\n",
       "  <thead>\n",
       "    <tr style=\"text-align: right;\">\n",
       "      <th></th>\n",
       "      <th>Park Code</th>\n",
       "      <th>Park Name</th>\n",
       "      <th>State</th>\n",
       "      <th>Acres</th>\n",
       "      <th>Latitude</th>\n",
       "      <th>Longitude</th>\n",
       "    </tr>\n",
       "  </thead>\n",
       "  <tbody>\n",
       "    <tr>\n",
       "      <th>58</th>\n",
       "      <td>YOSE</td>\n",
       "      <td>Yosemite National Park</td>\n",
       "      <td>CA</td>\n",
       "      <td>761266</td>\n",
       "      <td>37.83</td>\n",
       "      <td>-119.5</td>\n",
       "    </tr>\n",
       "  </tbody>\n",
       "</table>\n",
       "</div>"
      ],
      "text/plain": [
       "   Park Code               Park Name State   Acres  Latitude  Longitude\n",
       "58      YOSE  Yosemite National Park    CA  761266     37.83     -119.5"
      ]
     },
     "execution_count": 53,
     "metadata": {},
     "output_type": "execute_result"
    }
   ],
   "source": [
    "df[df[\"Park Code\"]=='YOSE']"
   ]
  },
  {
   "cell_type": "code",
   "execution_count": 54,
   "id": "861f68bd",
   "metadata": {},
   "outputs": [],
   "source": [
    "# Display the record where the Park Code = 'YOSE'\n",
    "#df.query(\"Park_Code=='YOSE'\") first rename "
   ]
  },
  {
   "cell_type": "code",
   "execution_count": 55,
   "id": "9638a58f",
   "metadata": {},
   "outputs": [
    {
     "data": {
      "text/html": [
       "<div>\n",
       "<style scoped>\n",
       "    .dataframe tbody tr th:only-of-type {\n",
       "        vertical-align: middle;\n",
       "    }\n",
       "\n",
       "    .dataframe tbody tr th {\n",
       "        vertical-align: top;\n",
       "    }\n",
       "\n",
       "    .dataframe thead th {\n",
       "        text-align: right;\n",
       "    }\n",
       "</style>\n",
       "<table border=\"1\" class=\"dataframe\">\n",
       "  <thead>\n",
       "    <tr style=\"text-align: right;\">\n",
       "      <th></th>\n",
       "      <th>Park Code</th>\n",
       "      <th>Park Name</th>\n",
       "      <th>State</th>\n",
       "      <th>Acres</th>\n",
       "      <th>Latitude</th>\n",
       "      <th>Longitude</th>\n",
       "    </tr>\n",
       "  </thead>\n",
       "  <tbody>\n",
       "    <tr>\n",
       "      <th>13</th>\n",
       "      <td>CUVA</td>\n",
       "      <td>Cuyahoga Valley National Park</td>\n",
       "      <td>OH</td>\n",
       "      <td>32950</td>\n",
       "      <td>41.24</td>\n",
       "      <td>-81.55</td>\n",
       "    </tr>\n",
       "  </tbody>\n",
       "</table>\n",
       "</div>"
      ],
      "text/plain": [
       "   Park Code                      Park Name State  Acres  Latitude  Longitude\n",
       "13      CUVA  Cuyahoga Valley National Park    OH  32950     41.24     -81.55"
      ]
     },
     "execution_count": 55,
     "metadata": {},
     "output_type": "execute_result"
    }
   ],
   "source": [
    "# Display the 13th record\n",
    "df.loc[[13]]"
   ]
  },
  {
   "cell_type": "code",
   "execution_count": 56,
   "id": "743e7db0",
   "metadata": {},
   "outputs": [
    {
     "data": {
      "text/plain": [
       "1           Arches National Park\n",
       "6     Bryce Canyon National Park\n",
       "7      Canyonlands National Park\n",
       "8     Capitol Reef National Park\n",
       "59            Zion National Park\n",
       "Name: Park Name, dtype: object"
      ]
     },
     "execution_count": 56,
     "metadata": {},
     "output_type": "execute_result"
    }
   ],
   "source": [
    "# Display the parks in Utah (State = 'UT')\n",
    "df.query(\"State == 'UT'\")[\"Park Name\"]"
   ]
  },
  {
   "cell_type": "code",
   "execution_count": 57,
   "id": "a9b63657",
   "metadata": {},
   "outputs": [
    {
     "data": {
      "text/plain": [
       "25    Great Smoky Mountains National Park - TN\n",
       "26    Great Smoky Mountains National Park - NC\n",
       "50                    Shenandoah National Park\n",
       "Name: Park Name, dtype: object"
      ]
     },
     "execution_count": 57,
     "metadata": {},
     "output_type": "execute_result"
    }
   ],
   "source": [
    "# Display the parks in Virginia, North Carolina or Tennessee (State = 'VA','NC','TN')\n",
    "df.query(\"State == 'VA' or State == 'NC' or State == 'TN'\")[\"Park Name\"]"
   ]
  },
  {
   "cell_type": "code",
   "execution_count": 58,
   "id": "7e5725b3",
   "metadata": {},
   "outputs": [
    {
     "data": {
      "text/plain": [
       "25    Great Smoky Mountains National Park - TN\n",
       "26    Great Smoky Mountains National Park - NC\n",
       "50                    Shenandoah National Park\n",
       "Name: Park Name, dtype: object"
      ]
     },
     "execution_count": 58,
     "metadata": {},
     "output_type": "execute_result"
    }
   ],
   "source": [
    "# Display the parks in Virginia, North Carolina or Tennessee (State = 'VA','NC','TN')\n",
    "df.query(\"State == 'VA' or State == 'NC' or State == 'TN'\")[\"Park Name\"]"
   ]
  },
  {
   "cell_type": "code",
   "execution_count": 59,
   "id": "e906a60c",
   "metadata": {
    "scrolled": true
   },
   "outputs": [
    {
     "data": {
      "text/plain": [
       "25    Great Smoky Mountains National Park - TN\n",
       "26    Great Smoky Mountains National Park - NC\n",
       "50                    Shenandoah National Park\n",
       "Name: Park Name, dtype: object"
      ]
     },
     "execution_count": 59,
     "metadata": {},
     "output_type": "execute_result"
    }
   ],
   "source": [
    "# Display the parks with more than 3 million acres\n",
    "df.query(\"State == 'VA' or State == 'NC' or State == 'TN'\")[\"Park Name\"]"
   ]
  },
  {
   "cell_type": "code",
   "execution_count": 60,
   "id": "06f02933",
   "metadata": {},
   "outputs": [
    {
     "data": {
      "text/plain": [
       "State\n",
       "AK    8\n",
       "AR    1\n",
       "AZ    3\n",
       "CA    8\n",
       "CO    4\n",
       "FL    3\n",
       "HI    2\n",
       "ID    1\n",
       "KY    1\n",
       "ME    1\n",
       "MI    1\n",
       "MN    1\n",
       "MT    2\n",
       "NC    1\n",
       "ND    1\n",
       "NM    1\n",
       "NV    2\n",
       "OH    1\n",
       "OR    1\n",
       "SC    1\n",
       "SD    2\n",
       "TN    1\n",
       "TX    2\n",
       "UT    5\n",
       "VA    1\n",
       "WA    3\n",
       "WY    2\n",
       "Name: Park Name, dtype: int64"
      ]
     },
     "execution_count": 60,
     "metadata": {},
     "output_type": "execute_result"
    }
   ],
   "source": [
    "# Display the number of parks by state\n",
    "df.groupby(\"State\")[\"Park Name\"].count()"
   ]
  },
  {
   "cell_type": "code",
   "execution_count": 61,
   "id": "112e12ae",
   "metadata": {},
   "outputs": [
    {
     "data": {
      "text/plain": [
       "State\n",
       "AK    8\n",
       "AR    1\n",
       "AZ    3\n",
       "CA    8\n",
       "CO    4\n",
       "FL    3\n",
       "HI    2\n",
       "ID    1\n",
       "KY    1\n",
       "ME    1\n",
       "MI    1\n",
       "MN    1\n",
       "MT    2\n",
       "NC    1\n",
       "ND    1\n",
       "NM    1\n",
       "NV    2\n",
       "OH    1\n",
       "OR    1\n",
       "SC    1\n",
       "SD    2\n",
       "TN    1\n",
       "TX    2\n",
       "UT    5\n",
       "VA    1\n",
       "WA    3\n",
       "WY    2\n",
       "Name: Park Name, dtype: int64"
      ]
     },
     "execution_count": 61,
     "metadata": {},
     "output_type": "execute_result"
    }
   ],
   "source": [
    "# Display the number of parks by state\n",
    "df.groupby(\"State\")[\"Park Name\"].count()"
   ]
  },
  {
   "cell_type": "code",
   "execution_count": 62,
   "id": "234f5347",
   "metadata": {},
   "outputs": [
    {
     "data": {
      "text/plain": [
       "State\n",
       "AK    31159251\n",
       "AR        5550\n",
       "AZ     1402376\n",
       "CA     7652926\n",
       "CO      393884\n",
       "FL     1746163\n",
       "HI      352525\n",
       "ID     2219791\n",
       "KY       52830\n",
       "ME       47390\n",
       "MI      571790\n",
       "MN      218200\n",
       "MT     3233363\n",
       "NC      521490\n",
       "ND       70447\n",
       "NM       46766\n",
       "NV     4818092\n",
       "OH       32950\n",
       "OR      183224\n",
       "SC       26546\n",
       "SD      271051\n",
       "TN      521490\n",
       "TX      887579\n",
       "UT      838454\n",
       "VA      199045\n",
       "WA     1663057\n",
       "WY     2529786\n",
       "Name: Acres, dtype: int64"
      ]
     },
     "execution_count": 62,
     "metadata": {},
     "output_type": "execute_result"
    }
   ],
   "source": [
    "# Display the total number of acres for all parks by state\n",
    "df.groupby(\"State\")[\"Acres\"].sum()"
   ]
  }
 ],
 "metadata": {
  "kernelspec": {
   "display_name": "Python 3 (ipykernel)",
   "language": "python",
   "name": "python3"
  },
  "language_info": {
   "codemirror_mode": {
    "name": "ipython",
    "version": 3
   },
   "file_extension": ".py",
   "mimetype": "text/x-python",
   "name": "python",
   "nbconvert_exporter": "python",
   "pygments_lexer": "ipython3",
   "version": "3.9.13"
  }
 },
 "nbformat": 4,
 "nbformat_minor": 5
}
